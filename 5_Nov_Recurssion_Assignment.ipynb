{
 "cells": [
  {
   "cell_type": "markdown",
   "id": "b80c1282-8781-4afd-adcd-2f976e7d5d7e",
   "metadata": {},
   "source": [
    "# Recurssion Assignment"
   ]
  },
  {
   "cell_type": "markdown",
   "id": "ce0af744-45fd-4492-b5dc-816db1f48abc",
   "metadata": {},
   "source": [
    "### Q. 3 Print the max value of the array [ 13, 1, -3, 22, 5]."
   ]
  },
  {
   "cell_type": "code",
   "execution_count": 2,
   "id": "c54b8496-7193-4fcb-b224-530ec0f593f1",
   "metadata": {},
   "outputs": [
    {
     "name": "stdout",
     "output_type": "stream",
     "text": [
      "The maximum value in the array is: 22\n"
     ]
    }
   ],
   "source": [
    "def find_max(arr, n):\n",
    "    \n",
    "    if n == 1:\n",
    "        return arr[0]\n",
    "    \n",
    "    \n",
    "    max_of_rest = find_max(arr, n-1)\n",
    "    \n",
    "   \n",
    "    return max(max_of_rest, arr[n-1])\n",
    "\n",
    "array = [13, 1, -3, 22, 5]\n",
    "n = len(array)\n",
    "max_value = find_max(array, n)\n",
    "print(\"The maximum value in the array is:\", max_value)\n"
   ]
  },
  {
   "cell_type": "code",
   "execution_count": null,
   "id": "d9d87b00-9bc5-4c4f-a814-d4935519804d",
   "metadata": {},
   "outputs": [],
   "source": []
  },
  {
   "cell_type": "markdown",
   "id": "03419142-e2c7-4247-8524-495a9d8f6e7d",
   "metadata": {},
   "source": [
    "### Q.4 Find the sum of the values of the array [92, 23, 15, -20, 10]."
   ]
  },
  {
   "cell_type": "code",
   "execution_count": 3,
   "id": "476fc275-d8c7-41fb-854a-91bbef5c8e96",
   "metadata": {},
   "outputs": [
    {
     "name": "stdout",
     "output_type": "stream",
     "text": [
      "The sum of the values in the array is: 120\n"
     ]
    }
   ],
   "source": [
    "def find_sum(arr, n):\n",
    "    \n",
    "    if n == 0:\n",
    "        return 0\n",
    "    \n",
    "    return arr[n-1] + find_sum(arr, n-1)\n",
    "\n",
    "array = [92, 23, 15, -20, 10]\n",
    "n = len(array)\n",
    "sum_value = find_sum(array, n)\n",
    "print(\"The sum of the values in the array is:\", sum_value)\n"
   ]
  },
  {
   "cell_type": "code",
   "execution_count": null,
   "id": "257a5fab-c104-45cb-84d7-31c54ab4e3e0",
   "metadata": {},
   "outputs": [],
   "source": []
  }
 ],
 "metadata": {
  "kernelspec": {
   "display_name": "Python 3 (ipykernel)",
   "language": "python",
   "name": "python3"
  },
  "language_info": {
   "codemirror_mode": {
    "name": "ipython",
    "version": 3
   },
   "file_extension": ".py",
   "mimetype": "text/x-python",
   "name": "python",
   "nbconvert_exporter": "python",
   "pygments_lexer": "ipython3",
   "version": "3.10.8"
  }
 },
 "nbformat": 4,
 "nbformat_minor": 5
}
